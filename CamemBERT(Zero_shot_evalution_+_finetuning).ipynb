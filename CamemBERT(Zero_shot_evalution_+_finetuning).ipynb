{
  "nbformat": 4,
  "nbformat_minor": 0,
  "metadata": {
    "colab": {
      "provenance": [],
      "gpuType": "T4",
      "authorship_tag": "ABX9TyOKPN96ru5BJRSshwOH5OpO",
      "include_colab_link": true
    },
    "kernelspec": {
      "name": "python3",
      "display_name": "Python 3"
    },
    "language_info": {
      "name": "python"
    },
    "accelerator": "GPU"
  },
  "cells": [
    {
      "cell_type": "markdown",
      "metadata": {
        "id": "view-in-github",
        "colab_type": "text"
      },
      "source": [
        "<a href=\"https://colab.research.google.com/github/abidlifiras/llm-qcm-demo/blob/master/CamemBERT(Zero_shot_evalution_%2B_finetuning).ipynb\" target=\"_parent\"><img src=\"https://colab.research.google.com/assets/colab-badge.svg\" alt=\"Open In Colab\"/></a>"
      ]
    },
    {
      "cell_type": "markdown",
      "source": [
        "# One-shot Evaluation of CamemBERT on Multi-label Multiple Choice QA Task"
      ],
      "metadata": {
        "id": "pfmwYbplFMpR"
      }
    },
    {
      "cell_type": "code",
      "execution_count": 1,
      "metadata": {
        "colab": {
          "base_uri": "https://localhost:8080/"
        },
        "id": "42AcS3MTsPCh",
        "outputId": "550eaf7f-15b0-4dae-c4f7-2ee7a9391114"
      },
      "outputs": [
        {
          "output_type": "stream",
          "name": "stdout",
          "text": [
            "Cloning into 'llm-qcm-demo'...\n",
            "remote: Enumerating objects: 36, done.\u001b[K\n",
            "remote: Counting objects: 100% (36/36), done.\u001b[K\n",
            "remote: Compressing objects: 100% (26/26), done.\u001b[K\n",
            "remote: Total 36 (delta 10), reused 24 (delta 5), pack-reused 0 (from 0)\u001b[K\n",
            "Receiving objects: 100% (36/36), 698.93 KiB | 765.00 KiB/s, done.\n",
            "Resolving deltas: 100% (10/10), done.\n"
          ]
        }
      ],
      "source": [
        "!git clone https://github.com/abidlifiras/llm-qcm-demo.git"
      ]
    },
    {
      "cell_type": "code",
      "source": [
        "# Install required libraries\n",
        "!pip install transformers==4.17 scikit-learn numpy==1.26.4 --quiet\n",
        "!pip uninstall -y sentence-transformers thinc"
      ],
      "metadata": {
        "colab": {
          "base_uri": "https://localhost:8080/"
        },
        "id": "Sctvm5TE_9BR",
        "outputId": "f17057bc-d75d-4bf0-f48a-08b3a04c1f7f"
      },
      "execution_count": 3,
      "outputs": [
        {
          "output_type": "stream",
          "name": "stdout",
          "text": [
            "\u001b[33mWARNING: Skipping sentence-transformers as it is not installed.\u001b[0m\u001b[33m\n",
            "\u001b[0m\u001b[33mWARNING: Skipping thinc as it is not installed.\u001b[0m\u001b[33m\n",
            "\u001b[0m"
          ]
        }
      ]
    },
    {
      "cell_type": "code",
      "source": [
        "import transformers\n",
        "print(transformers.__version__)"
      ],
      "metadata": {
        "colab": {
          "base_uri": "https://localhost:8080/"
        },
        "id": "ZMIs6cOJI6l3",
        "outputId": "ad6b338c-6e00-449b-9932-cf88a1c91639"
      },
      "execution_count": 4,
      "outputs": [
        {
          "output_type": "stream",
          "name": "stdout",
          "text": [
            "4.17.0\n"
          ]
        }
      ]
    },
    {
      "cell_type": "code",
      "source": [
        "# Import dependencies\n",
        "import json\n",
        "import pandas as pd\n",
        "import torch\n",
        "from transformers import AutoTokenizer, AutoModelForSequenceClassification, TrainingArguments, Trainer\n",
        "from torch.utils.data import Dataset\n",
        "from sklearn.metrics import f1_score\n",
        "import numpy as np\n",
        "import matplotlib.pyplot as plt\n",
        "import gc\n",
        "import os\n",
        "import shutil\n",
        "os.environ[\"WANDB_DISABLED\"] = \"true\""
      ],
      "metadata": {
        "id": "Gsptw3YEAAG4"
      },
      "execution_count": 26,
      "outputs": []
    },
    {
      "cell_type": "code",
      "source": [
        "# Load test dataset\n",
        "# The dataset contain 'question', 'answers' (dict with keys a-e), and 'correct_answers' (list of correct labels)\n",
        "df_test = pd.read_json(\"llm-qcm-demo/dataset/test.json\")\n",
        "df_test.head()"
      ],
      "metadata": {
        "colab": {
          "base_uri": "https://localhost:8080/",
          "height": 379
        },
        "id": "KneHEO9cAG8P",
        "outputId": "07e94a12-c62f-489e-bdd9-4f72a80cca5e"
      },
      "execution_count": 2,
      "outputs": [
        {
          "output_type": "execute_result",
          "data": {
            "text/plain": [
              "                                                  id  \\\n",
              "0  5987fa6bffd499eb439c90679d7fbca822d62bc639d1b9...   \n",
              "1  6e87c8575bb9327470a27b7b51f7ea797802157bf3b0e9...   \n",
              "2  e0e98b574405e9131352337b65e76ce9c8bee4837790d7...   \n",
              "3  b0fd1cbf8968b8c825e35f3f085fe176831b8ac4f4fa0d...   \n",
              "4  d0c3a802a9700495b419f9a2ce7b3c66f8def1a140d76c...   \n",
              "\n",
              "                                            question  \\\n",
              "0  Parmi les propositions suivantes, indiquer cel...   \n",
              "1  Parmi les propositions suivantes, quelle est c...   \n",
              "2  Parmi les propositions suivantes, concernant l...   \n",
              "3  Une des molécules suivantes issues de l'activa...   \n",
              "4  Parmi les effets indésirables suivants, un seu...   \n",
              "\n",
              "                                             answers correct_answers  \\\n",
              "0  {'a': 'Le suc gastrique', 'b': 'La bile vésicu...             [c]   \n",
              "1  {'a': 'Le pH reste constant', 'b': 'Le pH dimi...             [b]   \n",
              "2  {'a': 'C'est un antibiotique à large spectre',...             [c]   \n",
              "3  {'a': 'C3b', 'b': 'C3d', 'c': 'C1', 'd': 'Bb',...             [e]   \n",
              "4  {'a': 'Toux', 'b': 'Hypokaliémie', 'c': 'Dysgu...             [b]   \n",
              "\n",
              "  subject_name  nbr_correct_answers  \n",
              "0    pharmacie                    1  \n",
              "1    pharmacie                    1  \n",
              "2    pharmacie                    1  \n",
              "3    pharmacie                    1  \n",
              "4    pharmacie                    1  "
            ],
            "text/html": [
              "\n",
              "  <div id=\"df-5acd3238-067b-4724-b8d5-046a5a913ca1\" class=\"colab-df-container\">\n",
              "    <div>\n",
              "<style scoped>\n",
              "    .dataframe tbody tr th:only-of-type {\n",
              "        vertical-align: middle;\n",
              "    }\n",
              "\n",
              "    .dataframe tbody tr th {\n",
              "        vertical-align: top;\n",
              "    }\n",
              "\n",
              "    .dataframe thead th {\n",
              "        text-align: right;\n",
              "    }\n",
              "</style>\n",
              "<table border=\"1\" class=\"dataframe\">\n",
              "  <thead>\n",
              "    <tr style=\"text-align: right;\">\n",
              "      <th></th>\n",
              "      <th>id</th>\n",
              "      <th>question</th>\n",
              "      <th>answers</th>\n",
              "      <th>correct_answers</th>\n",
              "      <th>subject_name</th>\n",
              "      <th>nbr_correct_answers</th>\n",
              "    </tr>\n",
              "  </thead>\n",
              "  <tbody>\n",
              "    <tr>\n",
              "      <th>0</th>\n",
              "      <td>5987fa6bffd499eb439c90679d7fbca822d62bc639d1b9...</td>\n",
              "      <td>Parmi les propositions suivantes, indiquer cel...</td>\n",
              "      <td>{'a': 'Le suc gastrique', 'b': 'La bile vésicu...</td>\n",
              "      <td>[c]</td>\n",
              "      <td>pharmacie</td>\n",
              "      <td>1</td>\n",
              "    </tr>\n",
              "    <tr>\n",
              "      <th>1</th>\n",
              "      <td>6e87c8575bb9327470a27b7b51f7ea797802157bf3b0e9...</td>\n",
              "      <td>Parmi les propositions suivantes, quelle est c...</td>\n",
              "      <td>{'a': 'Le pH reste constant', 'b': 'Le pH dimi...</td>\n",
              "      <td>[b]</td>\n",
              "      <td>pharmacie</td>\n",
              "      <td>1</td>\n",
              "    </tr>\n",
              "    <tr>\n",
              "      <th>2</th>\n",
              "      <td>e0e98b574405e9131352337b65e76ce9c8bee4837790d7...</td>\n",
              "      <td>Parmi les propositions suivantes, concernant l...</td>\n",
              "      <td>{'a': 'C'est un antibiotique à large spectre',...</td>\n",
              "      <td>[c]</td>\n",
              "      <td>pharmacie</td>\n",
              "      <td>1</td>\n",
              "    </tr>\n",
              "    <tr>\n",
              "      <th>3</th>\n",
              "      <td>b0fd1cbf8968b8c825e35f3f085fe176831b8ac4f4fa0d...</td>\n",
              "      <td>Une des molécules suivantes issues de l'activa...</td>\n",
              "      <td>{'a': 'C3b', 'b': 'C3d', 'c': 'C1', 'd': 'Bb',...</td>\n",
              "      <td>[e]</td>\n",
              "      <td>pharmacie</td>\n",
              "      <td>1</td>\n",
              "    </tr>\n",
              "    <tr>\n",
              "      <th>4</th>\n",
              "      <td>d0c3a802a9700495b419f9a2ce7b3c66f8def1a140d76c...</td>\n",
              "      <td>Parmi les effets indésirables suivants, un seu...</td>\n",
              "      <td>{'a': 'Toux', 'b': 'Hypokaliémie', 'c': 'Dysgu...</td>\n",
              "      <td>[b]</td>\n",
              "      <td>pharmacie</td>\n",
              "      <td>1</td>\n",
              "    </tr>\n",
              "  </tbody>\n",
              "</table>\n",
              "</div>\n",
              "    <div class=\"colab-df-buttons\">\n",
              "\n",
              "  <div class=\"colab-df-container\">\n",
              "    <button class=\"colab-df-convert\" onclick=\"convertToInteractive('df-5acd3238-067b-4724-b8d5-046a5a913ca1')\"\n",
              "            title=\"Convert this dataframe to an interactive table.\"\n",
              "            style=\"display:none;\">\n",
              "\n",
              "  <svg xmlns=\"http://www.w3.org/2000/svg\" height=\"24px\" viewBox=\"0 -960 960 960\">\n",
              "    <path d=\"M120-120v-720h720v720H120Zm60-500h600v-160H180v160Zm220 220h160v-160H400v160Zm0 220h160v-160H400v160ZM180-400h160v-160H180v160Zm440 0h160v-160H620v160ZM180-180h160v-160H180v160Zm440 0h160v-160H620v160Z\"/>\n",
              "  </svg>\n",
              "    </button>\n",
              "\n",
              "  <style>\n",
              "    .colab-df-container {\n",
              "      display:flex;\n",
              "      gap: 12px;\n",
              "    }\n",
              "\n",
              "    .colab-df-convert {\n",
              "      background-color: #E8F0FE;\n",
              "      border: none;\n",
              "      border-radius: 50%;\n",
              "      cursor: pointer;\n",
              "      display: none;\n",
              "      fill: #1967D2;\n",
              "      height: 32px;\n",
              "      padding: 0 0 0 0;\n",
              "      width: 32px;\n",
              "    }\n",
              "\n",
              "    .colab-df-convert:hover {\n",
              "      background-color: #E2EBFA;\n",
              "      box-shadow: 0px 1px 2px rgba(60, 64, 67, 0.3), 0px 1px 3px 1px rgba(60, 64, 67, 0.15);\n",
              "      fill: #174EA6;\n",
              "    }\n",
              "\n",
              "    .colab-df-buttons div {\n",
              "      margin-bottom: 4px;\n",
              "    }\n",
              "\n",
              "    [theme=dark] .colab-df-convert {\n",
              "      background-color: #3B4455;\n",
              "      fill: #D2E3FC;\n",
              "    }\n",
              "\n",
              "    [theme=dark] .colab-df-convert:hover {\n",
              "      background-color: #434B5C;\n",
              "      box-shadow: 0px 1px 3px 1px rgba(0, 0, 0, 0.15);\n",
              "      filter: drop-shadow(0px 1px 2px rgba(0, 0, 0, 0.3));\n",
              "      fill: #FFFFFF;\n",
              "    }\n",
              "  </style>\n",
              "\n",
              "    <script>\n",
              "      const buttonEl =\n",
              "        document.querySelector('#df-5acd3238-067b-4724-b8d5-046a5a913ca1 button.colab-df-convert');\n",
              "      buttonEl.style.display =\n",
              "        google.colab.kernel.accessAllowed ? 'block' : 'none';\n",
              "\n",
              "      async function convertToInteractive(key) {\n",
              "        const element = document.querySelector('#df-5acd3238-067b-4724-b8d5-046a5a913ca1');\n",
              "        const dataTable =\n",
              "          await google.colab.kernel.invokeFunction('convertToInteractive',\n",
              "                                                    [key], {});\n",
              "        if (!dataTable) return;\n",
              "\n",
              "        const docLinkHtml = 'Like what you see? Visit the ' +\n",
              "          '<a target=\"_blank\" href=https://colab.research.google.com/notebooks/data_table.ipynb>data table notebook</a>'\n",
              "          + ' to learn more about interactive tables.';\n",
              "        element.innerHTML = '';\n",
              "        dataTable['output_type'] = 'display_data';\n",
              "        await google.colab.output.renderOutput(dataTable, element);\n",
              "        const docLink = document.createElement('div');\n",
              "        docLink.innerHTML = docLinkHtml;\n",
              "        element.appendChild(docLink);\n",
              "      }\n",
              "    </script>\n",
              "  </div>\n",
              "\n",
              "\n",
              "    <div id=\"df-8615f9ad-7dbc-48ea-97b6-621114ddb204\">\n",
              "      <button class=\"colab-df-quickchart\" onclick=\"quickchart('df-8615f9ad-7dbc-48ea-97b6-621114ddb204')\"\n",
              "                title=\"Suggest charts\"\n",
              "                style=\"display:none;\">\n",
              "\n",
              "<svg xmlns=\"http://www.w3.org/2000/svg\" height=\"24px\"viewBox=\"0 0 24 24\"\n",
              "     width=\"24px\">\n",
              "    <g>\n",
              "        <path d=\"M19 3H5c-1.1 0-2 .9-2 2v14c0 1.1.9 2 2 2h14c1.1 0 2-.9 2-2V5c0-1.1-.9-2-2-2zM9 17H7v-7h2v7zm4 0h-2V7h2v10zm4 0h-2v-4h2v4z\"/>\n",
              "    </g>\n",
              "</svg>\n",
              "      </button>\n",
              "\n",
              "<style>\n",
              "  .colab-df-quickchart {\n",
              "      --bg-color: #E8F0FE;\n",
              "      --fill-color: #1967D2;\n",
              "      --hover-bg-color: #E2EBFA;\n",
              "      --hover-fill-color: #174EA6;\n",
              "      --disabled-fill-color: #AAA;\n",
              "      --disabled-bg-color: #DDD;\n",
              "  }\n",
              "\n",
              "  [theme=dark] .colab-df-quickchart {\n",
              "      --bg-color: #3B4455;\n",
              "      --fill-color: #D2E3FC;\n",
              "      --hover-bg-color: #434B5C;\n",
              "      --hover-fill-color: #FFFFFF;\n",
              "      --disabled-bg-color: #3B4455;\n",
              "      --disabled-fill-color: #666;\n",
              "  }\n",
              "\n",
              "  .colab-df-quickchart {\n",
              "    background-color: var(--bg-color);\n",
              "    border: none;\n",
              "    border-radius: 50%;\n",
              "    cursor: pointer;\n",
              "    display: none;\n",
              "    fill: var(--fill-color);\n",
              "    height: 32px;\n",
              "    padding: 0;\n",
              "    width: 32px;\n",
              "  }\n",
              "\n",
              "  .colab-df-quickchart:hover {\n",
              "    background-color: var(--hover-bg-color);\n",
              "    box-shadow: 0 1px 2px rgba(60, 64, 67, 0.3), 0 1px 3px 1px rgba(60, 64, 67, 0.15);\n",
              "    fill: var(--button-hover-fill-color);\n",
              "  }\n",
              "\n",
              "  .colab-df-quickchart-complete:disabled,\n",
              "  .colab-df-quickchart-complete:disabled:hover {\n",
              "    background-color: var(--disabled-bg-color);\n",
              "    fill: var(--disabled-fill-color);\n",
              "    box-shadow: none;\n",
              "  }\n",
              "\n",
              "  .colab-df-spinner {\n",
              "    border: 2px solid var(--fill-color);\n",
              "    border-color: transparent;\n",
              "    border-bottom-color: var(--fill-color);\n",
              "    animation:\n",
              "      spin 1s steps(1) infinite;\n",
              "  }\n",
              "\n",
              "  @keyframes spin {\n",
              "    0% {\n",
              "      border-color: transparent;\n",
              "      border-bottom-color: var(--fill-color);\n",
              "      border-left-color: var(--fill-color);\n",
              "    }\n",
              "    20% {\n",
              "      border-color: transparent;\n",
              "      border-left-color: var(--fill-color);\n",
              "      border-top-color: var(--fill-color);\n",
              "    }\n",
              "    30% {\n",
              "      border-color: transparent;\n",
              "      border-left-color: var(--fill-color);\n",
              "      border-top-color: var(--fill-color);\n",
              "      border-right-color: var(--fill-color);\n",
              "    }\n",
              "    40% {\n",
              "      border-color: transparent;\n",
              "      border-right-color: var(--fill-color);\n",
              "      border-top-color: var(--fill-color);\n",
              "    }\n",
              "    60% {\n",
              "      border-color: transparent;\n",
              "      border-right-color: var(--fill-color);\n",
              "    }\n",
              "    80% {\n",
              "      border-color: transparent;\n",
              "      border-right-color: var(--fill-color);\n",
              "      border-bottom-color: var(--fill-color);\n",
              "    }\n",
              "    90% {\n",
              "      border-color: transparent;\n",
              "      border-bottom-color: var(--fill-color);\n",
              "    }\n",
              "  }\n",
              "</style>\n",
              "\n",
              "      <script>\n",
              "        async function quickchart(key) {\n",
              "          const quickchartButtonEl =\n",
              "            document.querySelector('#' + key + ' button');\n",
              "          quickchartButtonEl.disabled = true;  // To prevent multiple clicks.\n",
              "          quickchartButtonEl.classList.add('colab-df-spinner');\n",
              "          try {\n",
              "            const charts = await google.colab.kernel.invokeFunction(\n",
              "                'suggestCharts', [key], {});\n",
              "          } catch (error) {\n",
              "            console.error('Error during call to suggestCharts:', error);\n",
              "          }\n",
              "          quickchartButtonEl.classList.remove('colab-df-spinner');\n",
              "          quickchartButtonEl.classList.add('colab-df-quickchart-complete');\n",
              "        }\n",
              "        (() => {\n",
              "          let quickchartButtonEl =\n",
              "            document.querySelector('#df-8615f9ad-7dbc-48ea-97b6-621114ddb204 button');\n",
              "          quickchartButtonEl.style.display =\n",
              "            google.colab.kernel.accessAllowed ? 'block' : 'none';\n",
              "        })();\n",
              "      </script>\n",
              "    </div>\n",
              "\n",
              "    </div>\n",
              "  </div>\n"
            ],
            "application/vnd.google.colaboratory.intrinsic+json": {
              "type": "dataframe",
              "variable_name": "df_test",
              "summary": "{\n  \"name\": \"df_test\",\n  \"rows\": 622,\n  \"fields\": [\n    {\n      \"column\": \"id\",\n      \"properties\": {\n        \"dtype\": \"string\",\n        \"num_unique_values\": 622,\n        \"samples\": [\n          \"0259a5585e8fa0250e1ef659fe943388703452bd87bbbb5b2801ddc9d5d41090\",\n          \"4650b77f3d072c858451b690e614eb1e02969055f2f4f37b913d4a14c384f699\",\n          \"9abdf434a8693bea4c435e265e7343daddb8e3890b817b18d4420ef8de64e549\"\n        ],\n        \"semantic_type\": \"\",\n        \"description\": \"\"\n      }\n    },\n    {\n      \"column\": \"question\",\n      \"properties\": {\n        \"dtype\": \"string\",\n        \"num_unique_values\": 620,\n        \"samples\": [\n          \"Parmi les unit\\u00e9s de radioactivit\\u00e9 suivantes, indiquer celle qui est utilis\\u00e9e pour exprimer l'\\u00e9quivalent de dose (H)\\u00a0:\",\n          \"Parmi les propositions suivantes donner la (les) r\\u00e9ponse(s) exacte(s). l'ict\\u00e8re physiologique du nouveau-n\\u00e9:\",\n          \"Parmi les propositions suivantes concernant les spectres atomiques, laquelle est fausse?\"\n        ],\n        \"semantic_type\": \"\",\n        \"description\": \"\"\n      }\n    },\n    {\n      \"column\": \"answers\",\n      \"properties\": {\n        \"dtype\": \"object\",\n        \"semantic_type\": \"\",\n        \"description\": \"\"\n      }\n    },\n    {\n      \"column\": \"correct_answers\",\n      \"properties\": {\n        \"dtype\": \"object\",\n        \"semantic_type\": \"\",\n        \"description\": \"\"\n      }\n    },\n    {\n      \"column\": \"subject_name\",\n      \"properties\": {\n        \"dtype\": \"category\",\n        \"num_unique_values\": 1,\n        \"samples\": [\n          \"pharmacie\"\n        ],\n        \"semantic_type\": \"\",\n        \"description\": \"\"\n      }\n    },\n    {\n      \"column\": \"nbr_correct_answers\",\n      \"properties\": {\n        \"dtype\": \"number\",\n        \"std\": 1,\n        \"min\": 1,\n        \"max\": 5,\n        \"num_unique_values\": 5,\n        \"samples\": [\n          3\n        ],\n        \"semantic_type\": \"\",\n        \"description\": \"\"\n      }\n    }\n  ]\n}"
            }
          },
          "metadata": {},
          "execution_count": 2
        }
      ]
    },
    {
      "cell_type": "code",
      "source": [
        "# Load pre-trained CamemBERT model with a classification head for 5 labels (a, b, c, d, e)\n",
        "tokenizer_CamemBERT = AutoTokenizer.from_pretrained(\"camembert-base\")\n",
        "CamemBERT = AutoModelForSequenceClassification.from_pretrained(\n",
        "    \"camembert-base\",\n",
        "    num_labels=5,\n",
        "    problem_type=\"multi_label_classification\"\n",
        ")\n",
        "CamemBERT.eval()"
      ],
      "metadata": {
        "colab": {
          "base_uri": "https://localhost:8080/"
        },
        "id": "DHjVcVGuAPdg",
        "outputId": "84c0dee9-187c-4207-8398-68ace3028f85"
      },
      "execution_count": 11,
      "outputs": [
        {
          "output_type": "stream",
          "name": "stderr",
          "text": [
            "Special tokens have been added in the vocabulary, make sure the associated word embeddings are fine-tuned or trained.\n",
            "Some weights of the model checkpoint at camembert-base were not used when initializing CamembertForSequenceClassification: ['lm_head.decoder.weight', 'lm_head.dense.weight', 'lm_head.dense.bias', 'roberta.pooler.dense.bias', 'lm_head.bias', 'lm_head.layer_norm.bias', 'roberta.pooler.dense.weight', 'lm_head.layer_norm.weight']\n",
            "- This IS expected if you are initializing CamembertForSequenceClassification from the checkpoint of a model trained on another task or with another architecture (e.g. initializing a BertForSequenceClassification model from a BertForPreTraining model).\n",
            "- This IS NOT expected if you are initializing CamembertForSequenceClassification from the checkpoint of a model that you expect to be exactly identical (initializing a BertForSequenceClassification model from a BertForSequenceClassification model).\n",
            "Some weights of CamembertForSequenceClassification were not initialized from the model checkpoint at camembert-base and are newly initialized: ['classifier.dense.weight', 'classifier.dense.bias', 'classifier.out_proj.bias', 'classifier.out_proj.weight']\n",
            "You should probably TRAIN this model on a down-stream task to be able to use it for predictions and inference.\n"
          ]
        },
        {
          "output_type": "execute_result",
          "data": {
            "text/plain": [
              "CamembertForSequenceClassification(\n",
              "  (roberta): RobertaModel(\n",
              "    (embeddings): RobertaEmbeddings(\n",
              "      (word_embeddings): Embedding(32005, 768, padding_idx=1)\n",
              "      (position_embeddings): Embedding(514, 768, padding_idx=1)\n",
              "      (token_type_embeddings): Embedding(1, 768)\n",
              "      (LayerNorm): LayerNorm((768,), eps=1e-05, elementwise_affine=True)\n",
              "      (dropout): Dropout(p=0.1, inplace=False)\n",
              "    )\n",
              "    (encoder): RobertaEncoder(\n",
              "      (layer): ModuleList(\n",
              "        (0-11): 12 x RobertaLayer(\n",
              "          (attention): RobertaAttention(\n",
              "            (self): RobertaSelfAttention(\n",
              "              (query): Linear(in_features=768, out_features=768, bias=True)\n",
              "              (key): Linear(in_features=768, out_features=768, bias=True)\n",
              "              (value): Linear(in_features=768, out_features=768, bias=True)\n",
              "              (dropout): Dropout(p=0.1, inplace=False)\n",
              "            )\n",
              "            (output): RobertaSelfOutput(\n",
              "              (dense): Linear(in_features=768, out_features=768, bias=True)\n",
              "              (LayerNorm): LayerNorm((768,), eps=1e-05, elementwise_affine=True)\n",
              "              (dropout): Dropout(p=0.1, inplace=False)\n",
              "            )\n",
              "          )\n",
              "          (intermediate): RobertaIntermediate(\n",
              "            (dense): Linear(in_features=768, out_features=3072, bias=True)\n",
              "            (intermediate_act_fn): GELUActivation()\n",
              "          )\n",
              "          (output): RobertaOutput(\n",
              "            (dense): Linear(in_features=3072, out_features=768, bias=True)\n",
              "            (LayerNorm): LayerNorm((768,), eps=1e-05, elementwise_affine=True)\n",
              "            (dropout): Dropout(p=0.1, inplace=False)\n",
              "          )\n",
              "        )\n",
              "      )\n",
              "    )\n",
              "  )\n",
              "  (classifier): RobertaClassificationHead(\n",
              "    (dense): Linear(in_features=768, out_features=768, bias=True)\n",
              "    (dropout): Dropout(p=0.1, inplace=False)\n",
              "    (out_proj): Linear(in_features=768, out_features=5, bias=True)\n",
              "  )\n",
              ")"
            ]
          },
          "metadata": {},
          "execution_count": 11
        }
      ]
    },
    {
      "cell_type": "code",
      "source": [
        " # Convert correct answer letters into binary vector (e.g. ['a','d'] -> [1,0,0,1,0])\n",
        "def label_to_vector(correct_answers):\n",
        "    vec = [0] * 5\n",
        "    for ans in correct_answers:\n",
        "        if ans in ['a', 'b', 'c', 'd', 'e']:\n",
        "            idx = ord(ans) - ord(\"a\")  # Convert letter to index (a=0, b=1, ...)\n",
        "            vec[idx] = 1\n",
        "    return vec\n"
      ],
      "metadata": {
        "id": "2W_o2rZNATKi"
      },
      "execution_count": 9,
      "outputs": []
    },
    {
      "cell_type": "code",
      "source": [
        "# Prepare tokenized input strings and label vectors\n",
        "questions, labels = [], []\n",
        "for _, row in df_test.iterrows():\n",
        "    try:\n",
        "        q = row[\"question\"]              # Extract question text\n",
        "        answers = row[\"answers\"]         # Dictionary of options: {'a': ..., 'b': ..., ...}\n",
        "        corrects = row[\"correct_answers\"]# List of correct letters: ['a', 'c']\n",
        "        label_vec = label_to_vector(corrects)  # Convert to binary vector [1,0,1,0,0]\n",
        "\n",
        "        # Combine question and all answers into a single input string\n",
        "        merged = \" \".join([f\"{k.upper()}: {v}\" for k, v in sorted(answers.items())])\n",
        "        full_input = f\"Question: {q} Answers: {merged}\"\n",
        "\n",
        "        # Save to lists for batch processing\n",
        "        questions.append(full_input)\n",
        "        labels.append(label_vec)\n",
        "    except Exception as e:\n",
        "        print(f\"Error processing row: {e}\")  # Skip problematic rows\n",
        "        continue"
      ],
      "metadata": {
        "id": "NpNYXff3AV1-"
      },
      "execution_count": 10,
      "outputs": []
    },
    {
      "cell_type": "code",
      "source": [
        "# Inference step: predict in batches to avoid memory issues\n",
        "all_preds, all_labels = [], []\n",
        "batch_size = 4  # increase if memory allows\n",
        "\n",
        "for i in range(0, len(questions), batch_size):\n",
        "    try:\n",
        "        # Get batch of inputs and labels\n",
        "        batch_q = questions[i:i+batch_size]\n",
        "        batch_l = labels[i:i+batch_size]\n",
        "\n",
        "        # Tokenize input batch\n",
        "        enc = tokenizer_CamemBERT(batch_q, truncation=True, padding=True, return_tensors=\"pt\")\n",
        "\n",
        "        # Convert label batch to tensor\n",
        "        label_tensor = torch.tensor(batch_l).float()\n",
        "\n",
        "        with torch.no_grad():  # Disable gradients for inference\n",
        "            logits = CamemBERT(**enc).logits      # Raw outputs\n",
        "            probs = torch.sigmoid(logits)         # Convert to probabilities via sigmoid\n",
        "            preds = (probs > 0.5).int()           # Apply threshold (0.5) to get binary predictions\n",
        "\n",
        "        # Store predictions and labels\n",
        "        all_preds.append(preds)\n",
        "        all_labels.append(label_tensor)\n",
        "\n",
        "        # Free up memory\n",
        "        del enc, logits, probs, preds, label_tensor\n",
        "        gc.collect()\n",
        "        torch.cuda.empty_cache()\n",
        "    except Exception as e:\n",
        "        print(f\"Batch error at index {i}: {e}\")  # Skip batch if error occurs\n",
        "        continue"
      ],
      "metadata": {
        "id": "JhcPPRq5Agcn"
      },
      "execution_count": 12,
      "outputs": []
    },
    {
      "cell_type": "code",
      "source": [
        "# Evaluation metrics\n",
        "if all_preds and all_labels:\n",
        "    all_preds_tensor = torch.cat(all_preds, dim=0)\n",
        "    all_labels_tensor = torch.cat(all_labels, dim=0)\n",
        "    exact_match_acc = (all_preds_tensor == all_labels_tensor.int()).all(dim=1).sum().item() / len(all_labels_tensor)\n",
        "    macro_f1 = f1_score(all_labels_tensor, all_preds_tensor, average=\"macro\")\n",
        "    print(f\"\\n✅ Zero-shot CamemBERT Results:\")\n",
        "    print(f\"- Exact Match Accuracy: {exact_match_acc:.4f}\")\n",
        "    print(f\"- Macro F1-Score: {macro_f1:.4f}\")\n",
        "else:\n",
        "    print(\"⚠️ No predictions were successfully generated.\")"
      ],
      "metadata": {
        "colab": {
          "base_uri": "https://localhost:8080/"
        },
        "id": "zpaLpYJtAiqA",
        "outputId": "8d74ee79-105e-43ec-cdc6-98e7079ad3b8"
      },
      "execution_count": 13,
      "outputs": [
        {
          "output_type": "stream",
          "name": "stdout",
          "text": [
            "\n",
            "✅ One-shot CamemBERT Results:\n",
            "- Exact Match Accuracy: 0.0129\n",
            "- Macro F1-Score: 0.3951\n"
          ]
        }
      ]
    },
    {
      "cell_type": "markdown",
      "source": [
        "# ------------------------------------------------------------------\n",
        "# 📌 Conclusion and Next Steps\n",
        "# ------------------------------------------------------------------\n",
        "# As expected, the model's performance is limited:\n",
        "# - Exact Match Accuracy is low (~1.45%), meaning it rarely gets all answers correct.\n",
        "# - Macro F1-Score is moderate (~39%), showing it partially recognizes some correct answers.\n",
        "#\n",
        "# 🔧 Improvement Proposal:\n",
        "# To enhance results, we will fine-tune CamemBERT on the training set specific to this task.\n",
        "# This will allow the model to learn domain-specific cues and improve its ability to select\n",
        "# the correct answer combinations.\n",
        "\n",
        "# The next step is to implement fine-tuning using the train.json dataset and re-evaluate the model."
      ],
      "metadata": {
        "id": "yK82J2jwGygg"
      }
    },
    {
      "cell_type": "code",
      "source": [
        "# Load training and validation datasets\n",
        "df_train = pd.read_json(\"llm-qcm-demo/dataset/train.json\")\n",
        "df_dev = pd.read_json(\"llm-qcm-demo/dataset/dev.json\")"
      ],
      "metadata": {
        "id": "pFrVtEF-Hm9Z"
      },
      "execution_count": 15,
      "outputs": []
    },
    {
      "cell_type": "code",
      "source": [
        "# Convert correct answers into binary vectors (multi-label format)\n",
        "def label_to_vector(correct_answers):\n",
        "    vec = [0] * 5\n",
        "    for ans in correct_answers:\n",
        "        if ans in ['a', 'b', 'c', 'd', 'e']:\n",
        "            idx = ord(ans) - ord(\"a\")\n",
        "            vec[idx] = 1\n",
        "    return vec\n"
      ],
      "metadata": {
        "id": "3kYs8mlzXSdu"
      },
      "execution_count": 16,
      "outputs": []
    },
    {
      "cell_type": "code",
      "source": [
        "# Define a custom dataset class compatible with HuggingFace Trainer\n",
        "class QADataset(Dataset):\n",
        "    def __init__(self, dataframe, tokenizer):\n",
        "        self.encodings = []  # List to store tokenized inputs\n",
        "        self.labels = []     # List to store corresponding label vectors\n",
        "\n",
        "        # Iterate through each row in the DataFrame\n",
        "        for _, row in dataframe.iterrows():\n",
        "            try:\n",
        "                q = row[\"question\"]          # Extract the question text\n",
        "                answers = row[\"answers\"]     # Extract the dictionary of answer options (a to e)\n",
        "                corrects = row[\"correct_answers\"]  # List of correct answer keys (e.g., ['a', 'c'])\n",
        "\n",
        "                # Convert correct answers to a binary vector like [1, 0, 1, 0, 0]\n",
        "                label_vec = label_to_vector(corrects)\n",
        "\n",
        "                # Format all answer options into a readable string: A: ... B: ...\n",
        "                merged = \" \".join([f\"{k.upper()}: {v}\" for k, v in sorted(answers.items())])\n",
        "\n",
        "                # Concatenate question and answers into a single input string\n",
        "                full_input = f\"Question: {q} Answers: {merged}\"\n",
        "\n",
        "                # Tokenize the input string\n",
        "                encoding = tokenizer(\n",
        "                    full_input,\n",
        "                    truncation=True,\n",
        "                    padding='max_length',\n",
        "                    max_length=256\n",
        "                )\n",
        "\n",
        "                # Store the tokenized input and its corresponding label\n",
        "                self.encodings.append(encoding)\n",
        "                self.labels.append(label_vec)\n",
        "\n",
        "            except:\n",
        "                # Skip the row silently if any error occurs (e.g., malformed entry)\n",
        "                continue\n",
        "\n",
        "    def __len__(self):\n",
        "        # Return the number of samples in the dataset\n",
        "        return len(self.labels)\n",
        "\n",
        "    def __getitem__(self, idx):\n",
        "        # Format the tokenized input and label for one sample\n",
        "        # tokenizer.pad() is used outside to return all necessary input fields (e.g., input_ids, attention_mask)\n",
        "        item = {\n",
        "            key: torch.tensor(val[idx]) for key, val in self.tokenize_batch().items()\n",
        "        }\n",
        "        item['labels'] = torch.tensor(self.labels[idx]).float()  # Convert label vector to tensor\n",
        "        return item\n",
        "\n",
        "    def tokenize_batch(self):\n",
        "        # Pads the batch of encodings using the tokenizer's padding method\n",
        "        # Returns a dictionary suitable for model input (input_ids, attention_mask, etc.)\n",
        "        return tokenizer_CamemBERT.pad(self.encodings, return_tensors=\"pt\")"
      ],
      "metadata": {
        "id": "Owrzah2nIBD4"
      },
      "execution_count": 18,
      "outputs": []
    },
    {
      "cell_type": "code",
      "source": [
        "# Prepare datasets\n",
        "train_dataset = QADataset(df_train, tokenizer_CamemBERT)\n",
        "dev_dataset = QADataset(df_dev, tokenizer_CamemBERT)"
      ],
      "metadata": {
        "id": "GyMYZ8tOIOoh"
      },
      "execution_count": 19,
      "outputs": []
    },
    {
      "cell_type": "code",
      "source": [
        "# Define custom evaluation metrics for multi-label classification\n",
        "def compute_metrics(eval_pred):\n",
        "    # Unpack logits and true labels from evaluation output\n",
        "    logits, labels = eval_pred\n",
        "\n",
        "    # Apply sigmoid to logits to convert them to probabilities (for multi-label)\n",
        "    probs = torch.sigmoid(torch.tensor(logits)).numpy()\n",
        "\n",
        "    # Binarize predictions using a threshold of 0.5\n",
        "    preds = (probs > 0.5).astype(int)\n",
        "\n",
        "    # Convert true labels to NumPy array (ensure integer format)\n",
        "    labels = np.array(labels).astype(int)\n",
        "\n",
        "    # Exact Match Accuracy:\n",
        "    # A prediction is considered correct only if ALL labels match exactly\n",
        "    exact_match = np.all(preds == labels, axis=1).mean()\n",
        "\n",
        "    # Macro F1-score:\n",
        "    # Compute F1-score for each label independently, then average them\n",
        "    macro_f1 = f1_score(labels, preds, average='macro')\n",
        "\n",
        "    # Return the computed metrics in a dictionary\n",
        "    return {\n",
        "        \"exact_match_accuracy\": exact_match,\n",
        "        \"macro_f1\": macro_f1,\n",
        "    }"
      ],
      "metadata": {
        "id": "j-uXlB3vIXdH"
      },
      "execution_count": 20,
      "outputs": []
    },
    {
      "cell_type": "code",
      "source": [
        "# Define training configuration using Hugging Face's TrainingArguments\n",
        "training_args = TrainingArguments(\n",
        "    output_dir=\"./results\",              # Directory where checkpoints and logs will be saved\n",
        "    report_to=\"none\",                    # Disable logging to external tools (e.g., WandB)\n",
        "    evaluation_strategy=\"epoch\",         # Evaluate the model at the end of every epoch\n",
        "    save_strategy=\"epoch\",               # Save model checkpoint at the end of every epoch\n",
        "    learning_rate=2e-5,                  # Initial learning rate for Adam optimizer\n",
        "    per_device_train_batch_size=8,       # Batch size per device (GPU/CPU) for training\n",
        "    per_device_eval_batch_size=8,        # Batch size per device for evaluation\n",
        "    num_train_epochs=5,                  # Total number of training epochs\n",
        "    weight_decay=0.01,                   # L2 weight regularization to reduce overfitting\n",
        "    load_best_model_at_end=True,         # Automatically load the best model (based on evaluation metric)\n",
        "    metric_for_best_model=\"macro_f1\",    # The metric to select the best model checkpoint\n",
        "    greater_is_better=True               # Indicates that higher 'macro_f1' is better\n",
        ")"
      ],
      "metadata": {
        "id": "7Qrwfna3IlXn"
      },
      "execution_count": 21,
      "outputs": []
    },
    {
      "cell_type": "code",
      "source": [
        "# Initialize Trainer\n",
        "trainer = Trainer(\n",
        "    model=CamemBERT,\n",
        "    args=training_args,\n",
        "    train_dataset=train_dataset,\n",
        "    eval_dataset=dev_dataset,\n",
        "    compute_metrics=compute_metrics\n",
        ")"
      ],
      "metadata": {
        "id": "4_n1i4EpJdS4"
      },
      "execution_count": 22,
      "outputs": []
    },
    {
      "cell_type": "code",
      "source": [
        "# Fine-tune the model\n",
        "trainer.train()"
      ],
      "metadata": {
        "colab": {
          "base_uri": "https://localhost:8080/",
          "height": 1000
        },
        "id": "IZvGTCuQJjeP",
        "outputId": "4817f8a8-9250-457f-b7e0-b841bbc2db53",
        "collapsed": true
      },
      "execution_count": 23,
      "outputs": [
        {
          "output_type": "stream",
          "name": "stderr",
          "text": [
            "/usr/local/lib/python3.11/dist-packages/transformers/optimization.py:306: FutureWarning: This implementation of AdamW is deprecated and will be removed in a future version. Use the PyTorch implementation torch.optim.AdamW instead, or set `no_deprecation_warning=True` to disable this warning\n",
            "  warnings.warn(\n",
            "***** Running training *****\n",
            "  Num examples = 2171\n",
            "  Num Epochs = 5\n",
            "  Instantaneous batch size per device = 8\n",
            "  Total train batch size (w. parallel, distributed & accumulation) = 8\n",
            "  Gradient Accumulation steps = 1\n",
            "  Total optimization steps = 1360\n",
            "<ipython-input-18-90982f412212>:24: UserWarning: To copy construct from a tensor, it is recommended to use sourceTensor.clone().detach() or sourceTensor.clone().detach().requires_grad_(True), rather than torch.tensor(sourceTensor).\n",
            "  item = {key: torch.tensor(val[idx]) for key, val in self.tokenize_batch().items()}\n"
          ]
        },
        {
          "output_type": "display_data",
          "data": {
            "text/plain": [
              "<IPython.core.display.HTML object>"
            ],
            "text/html": [
              "\n",
              "    <div>\n",
              "      \n",
              "      <progress value='1360' max='1360' style='width:300px; height:20px; vertical-align: middle;'></progress>\n",
              "      [1360/1360 45:02, Epoch 5/5]\n",
              "    </div>\n",
              "    <table border=\"1\" class=\"dataframe\">\n",
              "  <thead>\n",
              " <tr style=\"text-align: left;\">\n",
              "      <th>Epoch</th>\n",
              "      <th>Training Loss</th>\n",
              "      <th>Validation Loss</th>\n",
              "      <th>Exact Match Accuracy</th>\n",
              "      <th>Macro F1</th>\n",
              "    </tr>\n",
              "  </thead>\n",
              "  <tbody>\n",
              "    <tr>\n",
              "      <td>1</td>\n",
              "      <td>No log</td>\n",
              "      <td>0.625603</td>\n",
              "      <td>0.006410</td>\n",
              "      <td>0.623685</td>\n",
              "    </tr>\n",
              "    <tr>\n",
              "      <td>2</td>\n",
              "      <td>0.669100</td>\n",
              "      <td>0.599367</td>\n",
              "      <td>0.006410</td>\n",
              "      <td>0.630524</td>\n",
              "    </tr>\n",
              "    <tr>\n",
              "      <td>3</td>\n",
              "      <td>0.669100</td>\n",
              "      <td>0.593749</td>\n",
              "      <td>0.006410</td>\n",
              "      <td>0.633499</td>\n",
              "    </tr>\n",
              "    <tr>\n",
              "      <td>4</td>\n",
              "      <td>0.637800</td>\n",
              "      <td>0.593595</td>\n",
              "      <td>0.012821</td>\n",
              "      <td>0.620101</td>\n",
              "    </tr>\n",
              "    <tr>\n",
              "      <td>5</td>\n",
              "      <td>0.637800</td>\n",
              "      <td>0.592991</td>\n",
              "      <td>0.016026</td>\n",
              "      <td>0.623574</td>\n",
              "    </tr>\n",
              "  </tbody>\n",
              "</table><p>"
            ]
          },
          "metadata": {}
        },
        {
          "output_type": "stream",
          "name": "stderr",
          "text": [
            "***** Running Evaluation *****\n",
            "  Num examples = 312\n",
            "  Batch size = 8\n",
            "Saving model checkpoint to ./results/checkpoint-272\n",
            "Configuration saved in ./results/checkpoint-272/config.json\n",
            "Model weights saved in ./results/checkpoint-272/pytorch_model.bin\n",
            "<ipython-input-18-90982f412212>:24: UserWarning: To copy construct from a tensor, it is recommended to use sourceTensor.clone().detach() or sourceTensor.clone().detach().requires_grad_(True), rather than torch.tensor(sourceTensor).\n",
            "  item = {key: torch.tensor(val[idx]) for key, val in self.tokenize_batch().items()}\n",
            "***** Running Evaluation *****\n",
            "  Num examples = 312\n",
            "  Batch size = 8\n",
            "Saving model checkpoint to ./results/checkpoint-544\n",
            "Configuration saved in ./results/checkpoint-544/config.json\n",
            "Model weights saved in ./results/checkpoint-544/pytorch_model.bin\n",
            "<ipython-input-18-90982f412212>:24: UserWarning: To copy construct from a tensor, it is recommended to use sourceTensor.clone().detach() or sourceTensor.clone().detach().requires_grad_(True), rather than torch.tensor(sourceTensor).\n",
            "  item = {key: torch.tensor(val[idx]) for key, val in self.tokenize_batch().items()}\n",
            "***** Running Evaluation *****\n",
            "  Num examples = 312\n",
            "  Batch size = 8\n",
            "Saving model checkpoint to ./results/checkpoint-816\n",
            "Configuration saved in ./results/checkpoint-816/config.json\n",
            "Model weights saved in ./results/checkpoint-816/pytorch_model.bin\n",
            "<ipython-input-18-90982f412212>:24: UserWarning: To copy construct from a tensor, it is recommended to use sourceTensor.clone().detach() or sourceTensor.clone().detach().requires_grad_(True), rather than torch.tensor(sourceTensor).\n",
            "  item = {key: torch.tensor(val[idx]) for key, val in self.tokenize_batch().items()}\n",
            "***** Running Evaluation *****\n",
            "  Num examples = 312\n",
            "  Batch size = 8\n",
            "Saving model checkpoint to ./results/checkpoint-1088\n",
            "Configuration saved in ./results/checkpoint-1088/config.json\n",
            "Model weights saved in ./results/checkpoint-1088/pytorch_model.bin\n",
            "<ipython-input-18-90982f412212>:24: UserWarning: To copy construct from a tensor, it is recommended to use sourceTensor.clone().detach() or sourceTensor.clone().detach().requires_grad_(True), rather than torch.tensor(sourceTensor).\n",
            "  item = {key: torch.tensor(val[idx]) for key, val in self.tokenize_batch().items()}\n",
            "***** Running Evaluation *****\n",
            "  Num examples = 312\n",
            "  Batch size = 8\n",
            "Saving model checkpoint to ./results/checkpoint-1360\n",
            "Configuration saved in ./results/checkpoint-1360/config.json\n",
            "Model weights saved in ./results/checkpoint-1360/pytorch_model.bin\n",
            "\n",
            "\n",
            "Training completed. Do not forget to share your model on huggingface.co/models =)\n",
            "\n",
            "\n",
            "Loading best model from ./results/checkpoint-816 (score: 0.6334985210235671).\n"
          ]
        },
        {
          "output_type": "execute_result",
          "data": {
            "text/plain": [
              "TrainOutput(global_step=1360, training_loss=0.6454976250143613, metrics={'train_runtime': 2705.425, 'train_samples_per_second': 4.012, 'train_steps_per_second': 0.503, 'total_flos': 1428073718223360.0, 'train_loss': 0.6454976250143613, 'epoch': 5.0})"
            ]
          },
          "metadata": {},
          "execution_count": 23
        }
      ]
    },
    {
      "cell_type": "code",
      "source": [
        "# Extract training and evaluation logs\n",
        "log_df = pd.DataFrame(trainer.state.log_history)\n",
        "\n",
        "# Filter only the entries that contain evaluation results\n",
        "eval_logs = log_df[log_df[\"eval_loss\"].notna()]\n",
        "\n",
        "# Plot Macro F1 and Exact Match Accuracy\n",
        "plt.figure(figsize=(10, 5))\n",
        "plt.plot(eval_logs[\"epoch\"], eval_logs[\"eval_macro_f1\"], label=\"Macro F1\", marker='o')\n",
        "plt.plot(eval_logs[\"epoch\"], eval_logs[\"eval_exact_match_accuracy\"], label=\"Exact Match Accuracy\", marker='x')\n",
        "plt.xlabel(\"Epoch\")\n",
        "plt.ylabel(\"Score\")\n",
        "plt.title(\"Evaluation Metrics During Fine-tuning\")\n",
        "plt.legend()\n",
        "plt.grid(True)\n",
        "plt.show()"
      ],
      "metadata": {
        "id": "T4YZ9OdsXzGf",
        "colab": {
          "base_uri": "https://localhost:8080/",
          "height": 487
        },
        "outputId": "371136e7-73b9-44c8-e5c7-b18fbfdf0f85"
      },
      "execution_count": 25,
      "outputs": [
        {
          "output_type": "display_data",
          "data": {
            "text/plain": [
              "<Figure size 1000x500 with 1 Axes>"
            ],
            "image/png": "[encoded data removed]"
          },
          "metadata": {}
        }
      ]
    },
    {
      "cell_type": "code",
      "source": [
        "export_dir = \"./camembert_multilabel_model\"\n",
        "CamemBERT.save_pretrained(export_dir)\n",
        "tokenizer_CamemBERT.save_pretrained(export_dir)\n",
        "\n",
        "shutil.make_archive(\"camembert_multilabel_model\", 'zip', export_dir)"
      ],
      "metadata": {
        "colab": {
          "base_uri": "https://localhost:8080/",
          "height": 104
        },
        "id": "_ebl32hCatfz",
        "outputId": "d7ddd003-2515-4735-a272-a7599ebe5eca"
      },
      "execution_count": 27,
      "outputs": [
        {
          "output_type": "stream",
          "name": "stderr",
          "text": [
            "Configuration saved in ./camembert_multilabel_model/config.json\n",
            "Model weights saved in ./camembert_multilabel_model/pytorch_model.bin\n",
            "tokenizer config file saved in ./camembert_multilabel_model/tokenizer_config.json\n",
            "Special tokens file saved in ./camembert_multilabel_model/special_tokens_map.json\n"
          ]
        },
        {
          "output_type": "execute_result",
          "data": {
            "text/plain": [
              "'/content/camembert_multilabel_model.zip'"
            ],
            "application/vnd.google.colaboratory.intrinsic+json": {
              "type": "string"
            }
          },
          "metadata": {},
          "execution_count": 27
        }
      ]
    },
    {
      "cell_type": "markdown",
      "source": [
        "Conclusion – First Fine-tuning Attempt\n",
        "The initial fine-tuning of CamemBERT on the multi-label QCM dataset led to a significant improvement in partial prediction quality, as reflected by the macro F1-score, which stabilized around 62–63% across all five epochs.\n",
        "\n",
        "However, the exact match accuracy remains very low—starting at 0.64% and reaching only 1.6% by epoch 5. This suggests that while the model is often partially correct (capturing at least one good answer), it struggles to predict the full correct set of answers exactly.\n",
        "\n",
        "This gap highlights the complexity of the task and suggests the need to condition the model more precisely on the structure of each question.\n",
        "\n",
        "💡 Next Step: Conditioning on Question Type\n",
        "To further guide the model, the next improvement will consist of explicitly including the question type (simple or multiple) as part of the input prompt. This additional context is expected to help the model:\n",
        "\n",
        "Focus on predicting a single label when only one correct answer is expected,\n",
        "\n",
        "Or broaden its prediction when the question allows multiple answers.\n",
        "\n",
        "This strategy may contribute to improving both exact match accuracy and overall F1-score."
      ],
      "metadata": {
        "id": "bvQhTpBnbHN9"
      }
    },
    {
      "cell_type": "code",
      "source": [
        "# Load tokenizer\n",
        "tokenizer_CamemBERT = AutoTokenizer.from_pretrained(\"camembert-base\")\n",
        "\n",
        "# Convert correct answers into binary vector\n",
        "def label_to_vector(correct_answers):\n",
        "    vec = [0] * 5\n",
        "    for ans in correct_answers:\n",
        "        ans = ans.lower()\n",
        "        if ans in ['a', 'b', 'c', 'd', 'e']:\n",
        "            idx = ord(ans) - ord('a')\n",
        "            vec[idx] = 1\n",
        "    return vec\n",
        "\n",
        "# Add 'type' column to your dataframe if missing\n",
        "for df in [df_train, df_dev]:\n",
        "    df[\"type\"] = df[\"correct_answers\"].apply(lambda x: \"simple\" if len(x) == 1 else \"multiple\")\n",
        "\n",
        "# Custom dataset class\n",
        "class QADataset(Dataset):\n",
        "    def __init__(self, dataframe, tokenizer):\n",
        "        self.encodings = []\n",
        "        self.labels = []\n",
        "        for _, row in dataframe.iterrows():\n",
        "            try:\n",
        "                q = row[\"question\"]\n",
        "                answers = row[\"answers\"]\n",
        "                corrects = row[\"correct_answers\"]\n",
        "                q_type = row[\"type\"]\n",
        "                label_vec = label_to_vector(corrects)\n",
        "                merged = \" \".join([f\"{k.upper()}: {v}\" for k, v in sorted(answers.items())])\n",
        "                full_input = f\"Type: {q_type}. Question: {q} Answers: {merged}\"\n",
        "                encoding = tokenizer(full_input, truncation=True, padding='max_length', max_length=256)\n",
        "                self.encodings.append(encoding)\n",
        "                self.labels.append(label_vec)\n",
        "            except Exception as e:\n",
        "                continue\n",
        "\n",
        "    def __len__(self):\n",
        "        return len(self.labels)\n",
        "\n",
        "    def __getitem__(self, idx):\n",
        "        item = {key: torch.tensor(val[idx]) for key, val in self.tokenize_batch().items()}\n",
        "        item['labels'] = torch.tensor(self.labels[idx]).float()\n",
        "        return item\n",
        "\n",
        "    def tokenize_batch(self):\n",
        "        return tokenizer_CamemBERT.pad(self.encodings, return_tensors=\"pt\")\n",
        "\n",
        "# Create datasets\n",
        "train_dataset_with_type = QADataset(df_train, tokenizer_CamemBERT)\n",
        "dev_dataset_with_type = QADataset(df_dev, tokenizer_CamemBERT)"
      ],
      "metadata": {
        "colab": {
          "base_uri": "https://localhost:8080/"
        },
        "id": "2V8TXLg5bb8D",
        "outputId": "ca5faee4-9d4f-489a-dc9a-1d27c3237a57"
      },
      "execution_count": 29,
      "outputs": [
        {
          "output_type": "stream",
          "name": "stderr",
          "text": [
            "loading configuration file https://huggingface.co/camembert-base/resolve/main/config.json from cache at /root/.cache/huggingface/transformers/f459e43c5ebb871abbf9209195563bff6a11547fd9532047739667c394833221.e23d229c54bcc6f67d337b8b2dd111b0e3dc01fa854bfecd3efdeb8c955749e6\n",
            "Model config CamembertConfig {\n",
            "  \"_name_or_path\": \"camembert-base\",\n",
            "  \"architectures\": [\n",
            "    \"CamembertForMaskedLM\"\n",
            "  ],\n",
            "  \"attention_probs_dropout_prob\": 0.1,\n",
            "  \"bos_token_id\": 5,\n",
            "  \"classifier_dropout\": null,\n",
            "  \"eos_token_id\": 6,\n",
            "  \"hidden_act\": \"gelu\",\n",
            "  \"hidden_dropout_prob\": 0.1,\n",
            "  \"hidden_size\": 768,\n",
            "  \"initializer_range\": 0.02,\n",
            "  \"intermediate_size\": 3072,\n",
            "  \"layer_norm_eps\": 1e-05,\n",
            "  \"max_position_embeddings\": 514,\n",
            "  \"model_type\": \"camembert\",\n",
            "  \"num_attention_heads\": 12,\n",
            "  \"num_hidden_layers\": 12,\n",
            "  \"output_past\": true,\n",
            "  \"pad_token_id\": 1,\n",
            "  \"position_embedding_type\": \"absolute\",\n",
            "  \"transformers_version\": \"4.17.0\",\n",
            "  \"type_vocab_size\": 1,\n",
            "  \"use_cache\": true,\n",
            "  \"vocab_size\": 32005\n",
            "}\n",
            "\n",
            "loading file https://huggingface.co/camembert-base/resolve/main/sentencepiece.bpe.model from cache at /root/.cache/huggingface/transformers/dbcb433aefd8b1a136d029fe2205a5c58a6336f8d3ba20e6c010f4d962174f5f.160b145acd37d2b3fd7c3694afcf4c805c2da5fd4ed4c9e4a23985e3c52ee452\n",
            "loading file https://huggingface.co/camembert-base/resolve/main/tokenizer.json from cache at /root/.cache/huggingface/transformers/84c442cc6020fc04ce266072af54b040f770850f629dd86c5951dbc23ac4c0dd.8fd2f10f70e05e6bf043e8a6947f6cdf9bb5dc937df6f9210a5c0ba8ee48e959\n",
            "loading file https://huggingface.co/camembert-base/resolve/main/added_tokens.json from cache at None\n",
            "loading file https://huggingface.co/camembert-base/resolve/main/special_tokens_map.json from cache at None\n",
            "loading file https://huggingface.co/camembert-base/resolve/main/tokenizer_config.json from cache at /root/.cache/huggingface/transformers/2fe780f7679200cac22b335648beff74d77883d9d4f2a18d8c853681f1f60f5f.024cc07195c0ba0b51d4f80061c6115996ff26233f3d04788855b23cdf13fbd5\n",
            "loading configuration file https://huggingface.co/camembert-base/resolve/main/config.json from cache at /root/.cache/huggingface/transformers/f459e43c5ebb871abbf9209195563bff6a11547fd9532047739667c394833221.e23d229c54bcc6f67d337b8b2dd111b0e3dc01fa854bfecd3efdeb8c955749e6\n",
            "Model config CamembertConfig {\n",
            "  \"_name_or_path\": \"camembert-base\",\n",
            "  \"architectures\": [\n",
            "    \"CamembertForMaskedLM\"\n",
            "  ],\n",
            "  \"attention_probs_dropout_prob\": 0.1,\n",
            "  \"bos_token_id\": 5,\n",
            "  \"classifier_dropout\": null,\n",
            "  \"eos_token_id\": 6,\n",
            "  \"hidden_act\": \"gelu\",\n",
            "  \"hidden_dropout_prob\": 0.1,\n",
            "  \"hidden_size\": 768,\n",
            "  \"initializer_range\": 0.02,\n",
            "  \"intermediate_size\": 3072,\n",
            "  \"layer_norm_eps\": 1e-05,\n",
            "  \"max_position_embeddings\": 514,\n",
            "  \"model_type\": \"camembert\",\n",
            "  \"num_attention_heads\": 12,\n",
            "  \"num_hidden_layers\": 12,\n",
            "  \"output_past\": true,\n",
            "  \"pad_token_id\": 1,\n",
            "  \"position_embedding_type\": \"absolute\",\n",
            "  \"transformers_version\": \"4.17.0\",\n",
            "  \"type_vocab_size\": 1,\n",
            "  \"use_cache\": true,\n",
            "  \"vocab_size\": 32005\n",
            "}\n",
            "\n",
            "Special tokens have been added in the vocabulary, make sure the associated word embeddings are fine-tuned or trained.\n"
          ]
        }
      ]
    },
    {
      "cell_type": "code",
      "source": [
        "# Training arguments\n",
        "training_args = TrainingArguments(\n",
        "    output_dir=\"./results\",\n",
        "    report_to=\"none\",\n",
        "    evaluation_strategy=\"epoch\",\n",
        "    save_strategy=\"epoch\",\n",
        "    learning_rate=2e-5,\n",
        "    per_device_train_batch_size=8,\n",
        "    per_device_eval_batch_size=8,\n",
        "    num_train_epochs=3,\n",
        "    weight_decay=0.01,\n",
        "    load_best_model_at_end=True,\n",
        "    metric_for_best_model=\"macro_f1\",\n",
        "    greater_is_better=True\n",
        ")"
      ],
      "metadata": {
        "colab": {
          "base_uri": "https://localhost:8080/"
        },
        "id": "LSGMcovTbwAz",
        "outputId": "868e8f46-f745-4889-f2bb-62b7d85509dd"
      },
      "execution_count": 30,
      "outputs": [
        {
          "output_type": "stream",
          "name": "stderr",
          "text": [
            "PyTorch: setting up devices\n"
          ]
        }
      ]
    },
    {
      "cell_type": "code",
      "source": [
        "# Initialize Trainer with new dataset\n",
        "trainer = Trainer(\n",
        "    model=CamemBERT,\n",
        "    args=training_args,\n",
        "    train_dataset=train_dataset_with_type,\n",
        "    eval_dataset=dev_dataset_with_type,\n",
        "    compute_metrics=compute_metrics\n",
        ")"
      ],
      "metadata": {
        "id": "bZArq2EYby1M"
      },
      "execution_count": 31,
      "outputs": []
    },
    {
      "cell_type": "code",
      "source": [
        "# Fine-tune the model\n",
        "trainer.train()"
      ],
      "metadata": {
        "colab": {
          "base_uri": "https://localhost:8080/",
          "height": 901
        },
        "id": "ftINw6bzcCFi",
        "outputId": "b0d660ca-3284-414a-c1a0-6a1a230f128a"
      },
      "execution_count": 32,
      "outputs": [
        {
          "output_type": "stream",
          "name": "stderr",
          "text": [
            "/usr/local/lib/python3.11/dist-packages/transformers/optimization.py:306: FutureWarning: This implementation of AdamW is deprecated and will be removed in a future version. Use the PyTorch implementation torch.optim.AdamW instead, or set `no_deprecation_warning=True` to disable this warning\n",
            "  warnings.warn(\n",
            "***** Running training *****\n",
            "  Num examples = 2171\n",
            "  Num Epochs = 3\n",
            "  Instantaneous batch size per device = 8\n",
            "  Total train batch size (w. parallel, distributed & accumulation) = 8\n",
            "  Gradient Accumulation steps = 1\n",
            "  Total optimization steps = 816\n",
            "<ipython-input-29-1393b28b7b46>:42: UserWarning: To copy construct from a tensor, it is recommended to use sourceTensor.clone().detach() or sourceTensor.clone().detach().requires_grad_(True), rather than torch.tensor(sourceTensor).\n",
            "  item = {key: torch.tensor(val[idx]) for key, val in self.tokenize_batch().items()}\n"
          ]
        },
        {
          "output_type": "display_data",
          "data": {
            "text/plain": [
              "<IPython.core.display.HTML object>"
            ],
            "text/html": [
              "\n",
              "    <div>\n",
              "      \n",
              "      <progress value='816' max='816' style='width:300px; height:20px; vertical-align: middle;'></progress>\n",
              "      [816/816 27:36, Epoch 3/3]\n",
              "    </div>\n",
              "    <table border=\"1\" class=\"dataframe\">\n",
              "  <thead>\n",
              " <tr style=\"text-align: left;\">\n",
              "      <th>Epoch</th>\n",
              "      <th>Training Loss</th>\n",
              "      <th>Validation Loss</th>\n",
              "      <th>Exact Match Accuracy</th>\n",
              "      <th>Macro F1</th>\n",
              "    </tr>\n",
              "  </thead>\n",
              "  <tbody>\n",
              "    <tr>\n",
              "      <td>1</td>\n",
              "      <td>No log</td>\n",
              "      <td>0.579788</td>\n",
              "      <td>0.009615</td>\n",
              "      <td>0.638441</td>\n",
              "    </tr>\n",
              "    <tr>\n",
              "      <td>2</td>\n",
              "      <td>0.618600</td>\n",
              "      <td>0.581451</td>\n",
              "      <td>0.012821</td>\n",
              "      <td>0.637217</td>\n",
              "    </tr>\n",
              "    <tr>\n",
              "      <td>3</td>\n",
              "      <td>0.618600</td>\n",
              "      <td>0.584059</td>\n",
              "      <td>0.016026</td>\n",
              "      <td>0.615753</td>\n",
              "    </tr>\n",
              "  </tbody>\n",
              "</table><p>"
            ]
          },
          "metadata": {}
        },
        {
          "output_type": "stream",
          "name": "stderr",
          "text": [
            "***** Running Evaluation *****\n",
            "  Num examples = 312\n",
            "  Batch size = 8\n",
            "Saving model checkpoint to ./results/checkpoint-272\n",
            "Configuration saved in ./results/checkpoint-272/config.json\n",
            "Model weights saved in ./results/checkpoint-272/pytorch_model.bin\n",
            "<ipython-input-29-1393b28b7b46>:42: UserWarning: To copy construct from a tensor, it is recommended to use sourceTensor.clone().detach() or sourceTensor.clone().detach().requires_grad_(True), rather than torch.tensor(sourceTensor).\n",
            "  item = {key: torch.tensor(val[idx]) for key, val in self.tokenize_batch().items()}\n",
            "***** Running Evaluation *****\n",
            "  Num examples = 312\n",
            "  Batch size = 8\n",
            "Saving model checkpoint to ./results/checkpoint-544\n",
            "Configuration saved in ./results/checkpoint-544/config.json\n",
            "Model weights saved in ./results/checkpoint-544/pytorch_model.bin\n",
            "<ipython-input-29-1393b28b7b46>:42: UserWarning: To copy construct from a tensor, it is recommended to use sourceTensor.clone().detach() or sourceTensor.clone().detach().requires_grad_(True), rather than torch.tensor(sourceTensor).\n",
            "  item = {key: torch.tensor(val[idx]) for key, val in self.tokenize_batch().items()}\n",
            "***** Running Evaluation *****\n",
            "  Num examples = 312\n",
            "  Batch size = 8\n",
            "Saving model checkpoint to ./results/checkpoint-816\n",
            "Configuration saved in ./results/checkpoint-816/config.json\n",
            "Model weights saved in ./results/checkpoint-816/pytorch_model.bin\n",
            "\n",
            "\n",
            "Training completed. Do not forget to share your model on huggingface.co/models =)\n",
            "\n",
            "\n",
            "Loading best model from ./results/checkpoint-272 (score: 0.6384413445805995).\n"
          ]
        },
        {
          "output_type": "execute_result",
          "data": {
            "text/plain": [
              "TrainOutput(global_step=816, training_loss=0.6116164712344899, metrics={'train_runtime': 1660.8041, 'train_samples_per_second': 3.922, 'train_steps_per_second': 0.491, 'total_flos': 856844230934016.0, 'train_loss': 0.6116164712344899, 'epoch': 3.0})"
            ]
          },
          "metadata": {},
          "execution_count": 32
        }
      ]
    },
    {
      "cell_type": "code",
      "source": [
        "export_dir = \"./camembert_multilabel_model_with_type\"\n",
        "CamemBERT.save_pretrained(export_dir)\n",
        "tokenizer_CamemBERT.save_pretrained(export_dir)\n",
        "\n",
        "shutil.make_archive(\"camembert_multilabel_model_with_type\", 'zip', export_dir)"
      ],
      "metadata": {
        "colab": {
          "base_uri": "https://localhost:8080/",
          "height": 104
        },
        "id": "TooyJGf_iBzC",
        "outputId": "c1f456f7-0f1d-43cd-a357-917acbd0af5a"
      },
      "execution_count": 33,
      "outputs": [
        {
          "output_type": "stream",
          "name": "stderr",
          "text": [
            "Configuration saved in ./camembert_multilabel_model_with_type/config.json\n",
            "Model weights saved in ./camembert_multilabel_model_with_type/pytorch_model.bin\n",
            "tokenizer config file saved in ./camembert_multilabel_model_with_type/tokenizer_config.json\n",
            "Special tokens file saved in ./camembert_multilabel_model_with_type/special_tokens_map.json\n"
          ]
        },
        {
          "output_type": "execute_result",
          "data": {
            "text/plain": [
              "'/content/camembert_multilabel_model_with_type.zip'"
            ],
            "application/vnd.google.colaboratory.intrinsic+json": {
              "type": "string"
            }
          },
          "metadata": {},
          "execution_count": 33
        }
      ]
    },
    {
      "cell_type": "markdown",
      "source": [
        "# **Fine-Tuning with Question Type + Deployment Perspective**\n",
        "In this second fine-tuning attempt, I included the question type (\"simple\" or \"multiple\") directly in the input prompt. This additional context helped the model better interpret the task structure.\n",
        "\n",
        "While the exact match accuracy showed a modest improvement (from 0.64% to 1.60%), the macro F1-score remained stable around 63%, confirming that the model consistently captures partial correctness.\n",
        "\n",
        "These results suggest that embedding structural information such as question type helps the model generate more informed and context-aware predictions, especially when distinguishing between single-answer and multi-answer QCMs — a key aspect for real-world deployment.\n",
        "\n",
        "⚠️ **Practical Note:** Using the Model in a Web Application\n",
        "In a real-time web application where users freely enter their questions, the system does not know in advance whether the question is \"simple\" or \"multiple\". Since the model was trained using this information in the input, two robust strategies can be applied at inference time:\n",
        "\n",
        "*   Default to \"Type: multiple\" for all questions\n",
        "This generic setting assumes that multiple answers may be correct. After prediction, the system can infer the actual type by checking how many answers were selected (e.g., one → likely \"simple\", more → \"multiple\").\n",
        "*   Run both type variants and compare\n",
        "The model is queried twice, once with \"Type: simple\" and once with \"Type: multiple\". The system then selects the most consistent prediction, possibly based on confidence levels or number of predicted labels.\n",
        "\n",
        "\n",
        "\n"
      ],
      "metadata": {
        "id": "gZTaG89ki_mO"
      }
    },
    {
      "cell_type": "markdown",
      "source": [
        "# **Perspectives and Future Improvements**\n",
        "While this project focused on supervised fine-tuning of CamemBERT for multi-label QCM classification, two particularly promising strategies could be explored to further improve the model’s performance and generalization:\n",
        "\n",
        "*   Retrieval-Augmented Generation (RAG):\n",
        "\n",
        "  RAG models enhance standard language models by retrieving relevant documents at inference time. This could significantly boost exact match accuracy, especially for domain-specific questions (e.g., in pharmacy), by grounding predictions in external factual knowledge rather than relying solely on pretrained weights. It allows the model to be more precise and complete when the correct answer requires background information.\n",
        "\n",
        "*   Data Augmentation:\n",
        "\n",
        "  Techniques such as paraphrasing questions, shuffling answer orders, or generating synthetic QCMs can increase the diversity and robustness of the training set. This can lead to better generalization, particularly for less frequent answer patterns, and is likely to improve the macro F1-score by helping the model perform more consistently across all classes and reduce bias toward dominant answer patterns.\n",
        "\n",
        "\n",
        "\n",
        "\n",
        "\n",
        "\n",
        "\n",
        "\n",
        "These approaches complement the current architecture and would strengthen both the model's strict correctness (exact match) and overall label-wise balance (macro F1), especially in real-world and low-resource scenarios."
      ],
      "metadata": {
        "id": "kiaqoEh0qXYq"
      }
    }
  ]
}